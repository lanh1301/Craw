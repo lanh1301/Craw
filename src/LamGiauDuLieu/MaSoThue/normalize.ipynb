{
 "cells": [
  {
   "cell_type": "code",
   "execution_count": 24,
   "metadata": {},
   "outputs": [],
   "source": [
    "import pandas as pd\n",
    "df = pd.read_excel('C:/Users/ASUS/OneDrive/Desktop/RTA_test/Data_DoanhNghiep/RTA Recruitment_ DS_Crawl Assignment.xlsx',sheet_name='Data mẫu', header=  1)"
   ]
  },
  {
   "attachments": {},
   "cell_type": "markdown",
   "metadata": {},
   "source": [
    "## MASOCONGTY.VN"
   ]
  },
  {
   "cell_type": "code",
   "execution_count": 3,
   "metadata": {},
   "outputs": [
    {
     "name": "stderr",
     "output_type": "stream",
     "text": [
      "c:\\Users\\ASUS\\AppData\\Local\\Programs\\Python\\Python38\\lib\\site-packages\\pandas\\core\\indexing.py:670: SettingWithCopyWarning: \n",
      "A value is trying to be set on a copy of a slice from a DataFrame\n",
      "\n",
      "See the caveats in the documentation: https://pandas.pydata.org/pandas-docs/stable/user_guide/indexing.html#returning-a-view-versus-a-copy\n",
      "  iloc._setitem_with_indexer(indexer, value)\n"
     ]
    }
   ],
   "source": [
    "df['location'].loc[df['location'] == 'TP.HCM'] = '79'\n",
    "df['location'].loc[df['location'] == 'Hà Nội'] = '1'\n",
    "df['location'].loc[df['location'] == 'Đồng Nai'] = '75'\n",
    "df['location'].loc[df['location'] == 'Toàn quốc'] = 'all'\n",
    "df['location'].loc[df['location'] == 'An Giang'] = '89'\n",
    "df['location'].loc[df['location'] == 'Bình Định'] = '52'\n",
    "df['location'].loc[df['location'] == 'Long An'] = '80'\n",
    "df['location'].loc[df['location'] == 'Kiên Giang'] = '91'\n",
    "df['location'].loc[df['location'] == 'Bình Dương'] = '74'\n",
    "\n",
    "data = df['company_name'] + '__' + df['location'] \n",
    "data.to_excel('data_normalize.xlsx', index=False)"
   ]
  },
  {
   "attachments": {},
   "cell_type": "markdown",
   "metadata": {},
   "source": [
    "## DICHVUTHONGTIN.DKKD.GOV.VN"
   ]
  },
  {
   "cell_type": "code",
   "execution_count": 4,
   "metadata": {},
   "outputs": [],
   "source": [
    "df['location'].loc[df['location'] == 'TP.HCM'] = '122'\n",
    "df['location'].loc[df['location'] == 'Hà Nội'] = '81'\n",
    "df['location'].loc[df['location'] == 'Đồng Nai'] = '128'\n",
    "df['location'].loc[df['location'] == 'Toàn quốc'] = '81'\n",
    "df['location'].loc[df['location'] == 'An Giang'] = '133'\n",
    "df['location'].loc[df['location'] == 'Bình Định'] = '115'\n",
    "df['location'].loc[df['location'] == 'Long An'] = '131'\n",
    "df['location'].loc[df['location'] == 'Kiên Giang'] = '137'\n",
    "df['location'].loc[df['location'] == 'Bình Dương'] = '127'\n",
    "\n",
    "datav2 = df['company_name'] + '__' + df['location']\n",
    "datav2.to_excel('data_nor_DVTT.xlsx', index=False)"
   ]
  }
 ],
 "metadata": {
  "kernelspec": {
   "display_name": "Python 3",
   "language": "python",
   "name": "python3"
  },
  "language_info": {
   "codemirror_mode": {
    "name": "ipython",
    "version": 3
   },
   "file_extension": ".py",
   "mimetype": "text/x-python",
   "name": "python",
   "nbconvert_exporter": "python",
   "pygments_lexer": "ipython3",
   "version": "3.8.3"
  },
  "orig_nbformat": 4
 },
 "nbformat": 4,
 "nbformat_minor": 2
}
